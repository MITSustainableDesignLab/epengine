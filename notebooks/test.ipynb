{
 "cells": [
  {
   "cell_type": "code",
   "execution_count": 2,
   "metadata": {},
   "outputs": [
    {
     "data": {
      "text/plain": [
       "<hatchet_sdk.workflow_run.WorkflowRunRef at 0x2321e799f90>"
      ]
     },
     "execution_count": 2,
     "metadata": {},
     "output_type": "execute_result"
    }
   ],
   "source": [
    "from hatchet_sdk import new_client\n",
    "from pydantic import AnyUrl\n",
    "\n",
    "from epengine.models.shoebox import ShoeboxSimulationSpec\n",
    "\n",
    "spec = ShoeboxSimulationSpec(\n",
    "    experiment_id=\"test\",\n",
    "    sort_index=0,\n",
    "    lib_uri=AnyUrl(\"s3://ml-for-bem/tiles/massachusetts/2024_09_30/lib_demo.json\"),\n",
    "    typology=\"Residential\",\n",
    "    year_built=1972,\n",
    "    num_floors=3,\n",
    "    neighbor_polys=[\"POLYGON ((-10 0, -10 10, -5 10, -5 0, -10 0))\"],\n",
    "    neighbor_floors=[3],\n",
    "    rotated_rectangle=\"POLYGON ((5 0, 5 10, 15 10, 15 0, 5 0))\",\n",
    "    rotated_rectangle_area_ratio=1,\n",
    "    long_edge=10,\n",
    "    short_edge=10,\n",
    "    long_edge_angle=0.23,\n",
    "    footprint_area=100,\n",
    "    epwzip_path=\"https://climate.onebuilding.org/WMO_Region_4_North_and_Central_America/USA_United_States_of_America/MA_Massachusetts/USA_MA_Boston-Logan.Intl.AP.725090_TMYx.2009-2023.zip\",\n",
    ")\n",
    "specs = [spec.model_dump(mode=\"json\")] * 20\n",
    "\n",
    "client = new_client()\n",
    "\n",
    "payload = {\n",
    "    \"workflow_name\": \"simulate_ubem_shoebox\",\n",
    "    \"experiment_id\": \"test-shoebox-recurse\",\n",
    "    \"specs\": specs,\n",
    "    \"recursion_map\": {\"factor\": 4, \"max_depth\": 1},\n",
    "}\n",
    "client.admin.run_workflow(\"scatter_gather_recursive\", payload)"
   ]
  },
  {
   "cell_type": "code",
   "execution_count": null,
   "metadata": {},
   "outputs": [],
   "source": [
    "selector.BranchesSpec()"
   ]
  }
 ],
 "metadata": {
  "kernelspec": {
   "display_name": ".venv",
   "language": "python",
   "name": "python3"
  },
  "language_info": {
   "codemirror_mode": {
    "name": "ipython",
    "version": 3
   },
   "file_extension": ".py",
   "mimetype": "text/x-python",
   "name": "python",
   "nbconvert_exporter": "python",
   "pygments_lexer": "ipython3",
   "version": "3.10.9"
  }
 },
 "nbformat": 4,
 "nbformat_minor": 2
}
